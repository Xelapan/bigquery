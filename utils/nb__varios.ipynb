{
 "cells": [
  {
   "cell_type": "code",
   "execution_count": 4,
   "metadata": {},
   "outputs": [],
   "source": [
    "from datetime import datetime, timedelta\n",
    "from google.cloud import storage\n",
    "import pandas as pd\n",
    "import os\n",
    "from pandas_gbq import to_gbq\n",
    "from google.cloud import bigquery\n",
    "import bdds as bdds\n",
    "from logger import Logger\n",
    "import sendwp\n",
    "\n",
    "logger = Logger() "
   ]
  },
  {
   "cell_type": "code",
   "execution_count": 5,
   "metadata": {},
   "outputs": [],
   "source": [
    "\n",
    "os.environ[\"GOOGLE_APPLICATION_CREDENTIALS\"] = bdds.GetGCP()\n",
    "\n",
    "# Specify global variables\n",
    "project_id = 'digital-bonfire-344816'\n",
    "dataset_id = 'XP'\n",
    "table_id = 'PRO_librasMojadas'\n",
    "Dias_borrar = 60\n",
    "Fecha_obtener_Datos = 'fechaproduccion'\n",
    "schema = 'dw'"
   ]
  },
  {
   "cell_type": "code",
   "execution_count": 34,
   "metadata": {},
   "outputs": [
    {
     "data": {
      "text/plain": [
       "'172.26.200.11'"
      ]
     },
     "execution_count": 34,
     "metadata": {},
     "output_type": "execute_result"
    }
   ],
   "source": [
    "data['databases'][0]['connection_info']['host']\n",
    "data['databases'][0]['connection_info']['user']\n",
    "data['databases'][0]['connection_info']['password']"
   ]
  }
 ],
 "metadata": {
  "kernelspec": {
   "display_name": "Python 3",
   "language": "python",
   "name": "python3"
  },
  "language_info": {
   "codemirror_mode": {
    "name": "ipython",
    "version": 3
   },
   "file_extension": ".py",
   "mimetype": "text/x-python",
   "name": "python",
   "nbconvert_exporter": "python",
   "pygments_lexer": "ipython3",
   "version": "3.11.4"
  }
 },
 "nbformat": 4,
 "nbformat_minor": 2
}

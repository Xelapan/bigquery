{
 "cells": [
  {
   "cell_type": "code",
   "execution_count": 1,
   "metadata": {},
   "outputs": [
    {
     "ename": "ModuleNotFoundError",
     "evalue": "No module named 'utils'",
     "output_type": "error",
     "traceback": [
      "\u001b[1;31m---------------------------------------------------------------------------\u001b[0m",
      "\u001b[1;31mModuleNotFoundError\u001b[0m                       Traceback (most recent call last)",
      "Cell \u001b[1;32mIn[1], line 9\u001b[0m\n\u001b[0;32m      7\u001b[0m \u001b[38;5;28;01mfrom\u001b[39;00m \u001b[38;5;21;01mpandas_gbq\u001b[39;00m \u001b[38;5;28;01mimport\u001b[39;00m to_gbq\n\u001b[0;32m      8\u001b[0m \u001b[38;5;28;01mfrom\u001b[39;00m \u001b[38;5;21;01mgoogle\u001b[39;00m\u001b[38;5;21;01m.\u001b[39;00m\u001b[38;5;21;01mcloud\u001b[39;00m \u001b[38;5;28;01mimport\u001b[39;00m bigquery\n\u001b[1;32m----> 9\u001b[0m \u001b[38;5;28;01mimport\u001b[39;00m \u001b[38;5;21;01mutils\u001b[39;00m\u001b[38;5;21;01m.\u001b[39;00m\u001b[38;5;21;01mbdds\u001b[39;00m \u001b[38;5;28;01mas\u001b[39;00m \u001b[38;5;21;01mbdds\u001b[39;00m\n\u001b[0;32m     11\u001b[0m current_directory \u001b[38;5;241m=\u001b[39m os\u001b[38;5;241m.\u001b[39mgetcwd()\n\u001b[0;32m     12\u001b[0m \u001b[38;5;28mprint\u001b[39m(current_directory)\n",
      "\u001b[1;31mModuleNotFoundError\u001b[0m: No module named 'utils'"
     ]
    }
   ],
   "source": [
    "import os\n",
    "from datetime import datetime, timedelta\n",
    "from google.cloud import storage\n",
    "import pymysql\n",
    "import pymssql\n",
    "import pandas as pd\n",
    "from pandas_gbq import to_gbq\n",
    "from google.cloud import bigquery\n",
    "import utils.bdds as bdds\n",
    "\n",
    "current_directory = os.getcwd()\n",
    "print(current_directory)\n",
    "\n",
    "os.environ[\"GOOGLE_APPLICATION_CREDENTIALS\"] = bdds.GetGCP()"
   ]
  },
  {
   "cell_type": "code",
   "execution_count": 25,
   "metadata": {},
   "outputs": [],
   "source": [
    "def getMysqlData(fecha):\n",
    "    host = '172.26.200.11'\n",
    "    user = 'root'\n",
    "    password = 'admininformatica'\n",
    "    database = 'dw'\n",
    "\n",
    "    connection = pymysql.connect(\n",
    "        host=host,\n",
    "        user=user,\n",
    "        password=password,\n",
    "        db=database,\n",
    "        charset=\"utf8mb4\",\n",
    "        )\n",
    "\n",
    "    # Define the SQL query to select data from a table\n",
    "    sql_libras = f\"\"\"Select \n",
    "        fechaproduccion,  year(fechaproduccion) year, month(fechaproduccion) month, \n",
    "        case WHEN (WEEK(fechaproduccion,3) >= 52 AND DAYOFYEAR(fechaproduccion) <= 3 ) THEN 1 ELSE WEEK(fechaproduccion,3) END as week,\n",
    "        articulo, turno,\n",
    "        SUM(libras) libras, SUM(cantidad) unidades_solicitadas, SUM(entregado) unidades_entregadas\n",
    "          from (\n",
    "    SELECT\n",
    "    pro_orden.fechaproduccion,\n",
    "    pro_orden.articulo,\n",
    "    pro_orden.codigo as turno,\n",
    "    0 as libras,\n",
    "    SUM(pro_orden.cantidad) cantidad,\n",
    "    SUM(pro_orden.entregado) entregado\n",
    "    FROM\n",
    "    dw.pro_orden\n",
    "    where\n",
    "    (fechaproduccion) > '{fecha}' \n",
    "    and Estado = 'Cerrada'\n",
    "    group by\n",
    "    pro_orden.fechaproduccion, pro_orden.articulo,pro_orden.codigo\n",
    "    UNION ALL\n",
    "    SELECT\n",
    "        fechaproduccion,\n",
    "        producto as articulo,\n",
    "        turno,\n",
    "        libras,\n",
    "        0 as cantidad,\n",
    "        0 as entregado\n",
    "    FROM\n",
    "        dw.pro_librasmojadas\n",
    "    WHERE\n",
    "            (`pro_librasmojadas`.`fechaproduccion`) > '{fecha}' \n",
    "    ) pro\n",
    "    group by fechaproduccion, articulo,turno\"\"\"\n",
    "\n",
    "    try:\n",
    "        # Use Pandas to read data from MySQL into a DataFrame\n",
    "        result = pd.read_sql(sql_libras, connection)\n",
    "\n",
    "    except Exception as e:\n",
    "        print(\"Error:\", str(e))\n",
    "\n",
    "    finally:\n",
    "        # Close the database connection when done\n",
    "        connection.close()\n",
    "        return result"
   ]
  },
  {
   "cell_type": "code",
   "execution_count": 21,
   "metadata": {},
   "outputs": [
    {
     "name": "stderr",
     "output_type": "stream",
     "text": [
      "C:\\Users\\wicho\\AppData\\Local\\Temp\\ipykernel_4496\\2734859263.py:53: UserWarning: pandas only supports SQLAlchemy connectable (engine/connection) or database string URI or sqlite3 DBAPI2 connection. Other DBAPI2 objects are not tested. Please consider using SQLAlchemy.\n",
      "  result = pd.read_sql(sql_libras, connection)\n"
     ]
    }
   ],
   "source": [
    "# Test \n",
    "#Probar si funciona la funcion\n",
    "#loaded_data_produccion = getMysqlData(date_value)\n",
    "#loaded_data_produccion"
   ]
  },
  {
   "cell_type": "code",
   "execution_count": 131,
   "metadata": {},
   "outputs": [],
   "source": [
    "# Test \n",
    "# Por si se necesita guardar localmente\n",
    "#save to csv file\n",
    "#loaded_data_produccion.to_csv(current_directory + \"\\\\file.csv\", index=False)"
   ]
  },
  {
   "cell_type": "code",
   "execution_count": 3,
   "metadata": {},
   "outputs": [],
   "source": [
    "# Specify your BigQuery project_id, dataset_id, and table_id\n",
    "project_id = 'digital-bonfire-344816'\n",
    "dataset_id = 'Produccion'\n",
    "table_id = 'ResumenProduccion'\n",
    "\n",
    "# Initialize a BigQuery client\n",
    "client = bigquery.Client()"
   ]
  },
  {
   "cell_type": "code",
   "execution_count": 4,
   "metadata": {},
   "outputs": [
    {
     "ename": "NotFound",
     "evalue": "404 Not found: Dataset digital-bonfire-344816:Produccion was not found in location US\n\nLocation: US\nJob ID: 95eb9f0a-693a-4ef5-9fe3-4cadb6d322bc\n",
     "output_type": "error",
     "traceback": [
      "\u001b[1;31m---------------------------------------------------------------------------\u001b[0m",
      "\u001b[1;31mNotFound\u001b[0m                                  Traceback (most recent call last)",
      "Cell \u001b[1;32mIn[4], line 10\u001b[0m\n\u001b[0;32m      7\u001b[0m job \u001b[38;5;241m=\u001b[39m client\u001b[38;5;241m.\u001b[39mquery(sql_delete)\n\u001b[0;32m      9\u001b[0m \u001b[38;5;66;03m# Wait for the query to complete\u001b[39;00m\n\u001b[1;32m---> 10\u001b[0m \u001b[43mjob\u001b[49m\u001b[38;5;241;43m.\u001b[39;49m\u001b[43mresult\u001b[49m\u001b[43m(\u001b[49m\u001b[43m)\u001b[49m\n\u001b[0;32m     12\u001b[0m \u001b[38;5;28mprint\u001b[39m(\u001b[38;5;124mf\u001b[39m\u001b[38;5;124m\"\u001b[39m\u001b[38;5;124mDeleted \u001b[39m\u001b[38;5;132;01m{\u001b[39;00mjob\u001b[38;5;241m.\u001b[39mnum_dml_affected_rows\u001b[38;5;132;01m}\u001b[39;00m\u001b[38;5;124m rows.\u001b[39m\u001b[38;5;124m\"\u001b[39m)\n",
      "File \u001b[1;32mc:\\Users\\wicho\\AppData\\Local\\Programs\\Python\\Python311\\Lib\\site-packages\\google\\cloud\\bigquery\\job\\query.py:1520\u001b[0m, in \u001b[0;36mQueryJob.result\u001b[1;34m(self, page_size, max_results, retry, timeout, start_index, job_retry)\u001b[0m\n\u001b[0;32m   1517\u001b[0m     \u001b[38;5;28;01mif\u001b[39;00m retry_do_query \u001b[38;5;129;01mis\u001b[39;00m \u001b[38;5;129;01mnot\u001b[39;00m \u001b[38;5;28;01mNone\u001b[39;00m \u001b[38;5;129;01mand\u001b[39;00m job_retry \u001b[38;5;129;01mis\u001b[39;00m \u001b[38;5;129;01mnot\u001b[39;00m \u001b[38;5;28;01mNone\u001b[39;00m:\n\u001b[0;32m   1518\u001b[0m         do_get_result \u001b[38;5;241m=\u001b[39m job_retry(do_get_result)\n\u001b[1;32m-> 1520\u001b[0m     \u001b[43mdo_get_result\u001b[49m\u001b[43m(\u001b[49m\u001b[43m)\u001b[49m\n\u001b[0;32m   1522\u001b[0m \u001b[38;5;28;01mexcept\u001b[39;00m exceptions\u001b[38;5;241m.\u001b[39mGoogleAPICallError \u001b[38;5;28;01mas\u001b[39;00m exc:\n\u001b[0;32m   1523\u001b[0m     exc\u001b[38;5;241m.\u001b[39mmessage \u001b[38;5;241m=\u001b[39m _EXCEPTION_FOOTER_TEMPLATE\u001b[38;5;241m.\u001b[39mformat(\n\u001b[0;32m   1524\u001b[0m         message\u001b[38;5;241m=\u001b[39mexc\u001b[38;5;241m.\u001b[39mmessage, location\u001b[38;5;241m=\u001b[39m\u001b[38;5;28mself\u001b[39m\u001b[38;5;241m.\u001b[39mlocation, job_id\u001b[38;5;241m=\u001b[39m\u001b[38;5;28mself\u001b[39m\u001b[38;5;241m.\u001b[39mjob_id\n\u001b[0;32m   1525\u001b[0m     )\n",
      "File \u001b[1;32mc:\\Users\\wicho\\AppData\\Local\\Programs\\Python\\Python311\\Lib\\site-packages\\google\\api_core\\retry.py:349\u001b[0m, in \u001b[0;36mRetry.__call__.<locals>.retry_wrapped_func\u001b[1;34m(*args, **kwargs)\u001b[0m\n\u001b[0;32m    345\u001b[0m target \u001b[38;5;241m=\u001b[39m functools\u001b[38;5;241m.\u001b[39mpartial(func, \u001b[38;5;241m*\u001b[39margs, \u001b[38;5;241m*\u001b[39m\u001b[38;5;241m*\u001b[39mkwargs)\n\u001b[0;32m    346\u001b[0m sleep_generator \u001b[38;5;241m=\u001b[39m exponential_sleep_generator(\n\u001b[0;32m    347\u001b[0m     \u001b[38;5;28mself\u001b[39m\u001b[38;5;241m.\u001b[39m_initial, \u001b[38;5;28mself\u001b[39m\u001b[38;5;241m.\u001b[39m_maximum, multiplier\u001b[38;5;241m=\u001b[39m\u001b[38;5;28mself\u001b[39m\u001b[38;5;241m.\u001b[39m_multiplier\n\u001b[0;32m    348\u001b[0m )\n\u001b[1;32m--> 349\u001b[0m \u001b[38;5;28;01mreturn\u001b[39;00m \u001b[43mretry_target\u001b[49m\u001b[43m(\u001b[49m\n\u001b[0;32m    350\u001b[0m \u001b[43m    \u001b[49m\u001b[43mtarget\u001b[49m\u001b[43m,\u001b[49m\n\u001b[0;32m    351\u001b[0m \u001b[43m    \u001b[49m\u001b[38;5;28;43mself\u001b[39;49m\u001b[38;5;241;43m.\u001b[39;49m\u001b[43m_predicate\u001b[49m\u001b[43m,\u001b[49m\n\u001b[0;32m    352\u001b[0m \u001b[43m    \u001b[49m\u001b[43msleep_generator\u001b[49m\u001b[43m,\u001b[49m\n\u001b[0;32m    353\u001b[0m \u001b[43m    \u001b[49m\u001b[38;5;28;43mself\u001b[39;49m\u001b[38;5;241;43m.\u001b[39;49m\u001b[43m_timeout\u001b[49m\u001b[43m,\u001b[49m\n\u001b[0;32m    354\u001b[0m \u001b[43m    \u001b[49m\u001b[43mon_error\u001b[49m\u001b[38;5;241;43m=\u001b[39;49m\u001b[43mon_error\u001b[49m\u001b[43m,\u001b[49m\n\u001b[0;32m    355\u001b[0m \u001b[43m\u001b[49m\u001b[43m)\u001b[49m\n",
      "File \u001b[1;32mc:\\Users\\wicho\\AppData\\Local\\Programs\\Python\\Python311\\Lib\\site-packages\\google\\api_core\\retry.py:191\u001b[0m, in \u001b[0;36mretry_target\u001b[1;34m(target, predicate, sleep_generator, timeout, on_error, **kwargs)\u001b[0m\n\u001b[0;32m    189\u001b[0m \u001b[38;5;28;01mfor\u001b[39;00m sleep \u001b[38;5;129;01min\u001b[39;00m sleep_generator:\n\u001b[0;32m    190\u001b[0m     \u001b[38;5;28;01mtry\u001b[39;00m:\n\u001b[1;32m--> 191\u001b[0m         \u001b[38;5;28;01mreturn\u001b[39;00m \u001b[43mtarget\u001b[49m\u001b[43m(\u001b[49m\u001b[43m)\u001b[49m\n\u001b[0;32m    193\u001b[0m     \u001b[38;5;66;03m# pylint: disable=broad-except\u001b[39;00m\n\u001b[0;32m    194\u001b[0m     \u001b[38;5;66;03m# This function explicitly must deal with broad exceptions.\u001b[39;00m\n\u001b[0;32m    195\u001b[0m     \u001b[38;5;28;01mexcept\u001b[39;00m \u001b[38;5;167;01mException\u001b[39;00m \u001b[38;5;28;01mas\u001b[39;00m exc:\n",
      "File \u001b[1;32mc:\\Users\\wicho\\AppData\\Local\\Programs\\Python\\Python311\\Lib\\site-packages\\google\\cloud\\bigquery\\job\\query.py:1510\u001b[0m, in \u001b[0;36mQueryJob.result.<locals>.do_get_result\u001b[1;34m()\u001b[0m\n\u001b[0;32m   1507\u001b[0m     \u001b[38;5;28mself\u001b[39m\u001b[38;5;241m.\u001b[39m_retry_do_query \u001b[38;5;241m=\u001b[39m retry_do_query\n\u001b[0;32m   1508\u001b[0m     \u001b[38;5;28mself\u001b[39m\u001b[38;5;241m.\u001b[39m_job_retry \u001b[38;5;241m=\u001b[39m job_retry\n\u001b[1;32m-> 1510\u001b[0m \u001b[38;5;28;43msuper\u001b[39;49m\u001b[43m(\u001b[49m\u001b[43mQueryJob\u001b[49m\u001b[43m,\u001b[49m\u001b[43m \u001b[49m\u001b[38;5;28;43mself\u001b[39;49m\u001b[43m)\u001b[49m\u001b[38;5;241;43m.\u001b[39;49m\u001b[43mresult\u001b[49m\u001b[43m(\u001b[49m\u001b[43mretry\u001b[49m\u001b[38;5;241;43m=\u001b[39;49m\u001b[43mretry\u001b[49m\u001b[43m,\u001b[49m\u001b[43m \u001b[49m\u001b[43mtimeout\u001b[49m\u001b[38;5;241;43m=\u001b[39;49m\u001b[43mtimeout\u001b[49m\u001b[43m)\u001b[49m\n\u001b[0;32m   1512\u001b[0m \u001b[38;5;66;03m# Since the job could already be \"done\" (e.g. got a finished job\u001b[39;00m\n\u001b[0;32m   1513\u001b[0m \u001b[38;5;66;03m# via client.get_job), the superclass call to done() might not\u001b[39;00m\n\u001b[0;32m   1514\u001b[0m \u001b[38;5;66;03m# set the self._query_results cache.\u001b[39;00m\n\u001b[0;32m   1515\u001b[0m \u001b[38;5;28mself\u001b[39m\u001b[38;5;241m.\u001b[39m_reload_query_results(retry\u001b[38;5;241m=\u001b[39mretry, timeout\u001b[38;5;241m=\u001b[39mtimeout)\n",
      "File \u001b[1;32mc:\\Users\\wicho\\AppData\\Local\\Programs\\Python\\Python311\\Lib\\site-packages\\google\\cloud\\bigquery\\job\\base.py:922\u001b[0m, in \u001b[0;36m_AsyncJob.result\u001b[1;34m(self, retry, timeout)\u001b[0m\n\u001b[0;32m    919\u001b[0m     \u001b[38;5;28mself\u001b[39m\u001b[38;5;241m.\u001b[39m_begin(retry\u001b[38;5;241m=\u001b[39mretry, timeout\u001b[38;5;241m=\u001b[39mtimeout)\n\u001b[0;32m    921\u001b[0m kwargs \u001b[38;5;241m=\u001b[39m {} \u001b[38;5;28;01mif\u001b[39;00m retry \u001b[38;5;129;01mis\u001b[39;00m DEFAULT_RETRY \u001b[38;5;28;01melse\u001b[39;00m {\u001b[38;5;124m\"\u001b[39m\u001b[38;5;124mretry\u001b[39m\u001b[38;5;124m\"\u001b[39m: retry}\n\u001b[1;32m--> 922\u001b[0m \u001b[38;5;28;01mreturn\u001b[39;00m \u001b[38;5;28;43msuper\u001b[39;49m\u001b[43m(\u001b[49m\u001b[43m_AsyncJob\u001b[49m\u001b[43m,\u001b[49m\u001b[43m \u001b[49m\u001b[38;5;28;43mself\u001b[39;49m\u001b[43m)\u001b[49m\u001b[38;5;241;43m.\u001b[39;49m\u001b[43mresult\u001b[49m\u001b[43m(\u001b[49m\u001b[43mtimeout\u001b[49m\u001b[38;5;241;43m=\u001b[39;49m\u001b[43mtimeout\u001b[49m\u001b[43m,\u001b[49m\u001b[43m \u001b[49m\u001b[38;5;241;43m*\u001b[39;49m\u001b[38;5;241;43m*\u001b[39;49m\u001b[43mkwargs\u001b[49m\u001b[43m)\u001b[49m\n",
      "File \u001b[1;32mc:\\Users\\wicho\\AppData\\Local\\Programs\\Python\\Python311\\Lib\\site-packages\\google\\api_core\\future\\polling.py:261\u001b[0m, in \u001b[0;36mPollingFuture.result\u001b[1;34m(self, timeout, retry, polling)\u001b[0m\n\u001b[0;32m    256\u001b[0m \u001b[38;5;28mself\u001b[39m\u001b[38;5;241m.\u001b[39m_blocking_poll(timeout\u001b[38;5;241m=\u001b[39mtimeout, retry\u001b[38;5;241m=\u001b[39mretry, polling\u001b[38;5;241m=\u001b[39mpolling)\n\u001b[0;32m    258\u001b[0m \u001b[38;5;28;01mif\u001b[39;00m \u001b[38;5;28mself\u001b[39m\u001b[38;5;241m.\u001b[39m_exception \u001b[38;5;129;01mis\u001b[39;00m \u001b[38;5;129;01mnot\u001b[39;00m \u001b[38;5;28;01mNone\u001b[39;00m:\n\u001b[0;32m    259\u001b[0m     \u001b[38;5;66;03m# pylint: disable=raising-bad-type\u001b[39;00m\n\u001b[0;32m    260\u001b[0m     \u001b[38;5;66;03m# Pylint doesn't recognize that this is valid in this case.\u001b[39;00m\n\u001b[1;32m--> 261\u001b[0m     \u001b[38;5;28;01mraise\u001b[39;00m \u001b[38;5;28mself\u001b[39m\u001b[38;5;241m.\u001b[39m_exception\n\u001b[0;32m    263\u001b[0m \u001b[38;5;28;01mreturn\u001b[39;00m \u001b[38;5;28mself\u001b[39m\u001b[38;5;241m.\u001b[39m_result\n",
      "\u001b[1;31mNotFound\u001b[0m: 404 Not found: Dataset digital-bonfire-344816:Produccion was not found in location US\n\nLocation: US\nJob ID: 95eb9f0a-693a-4ef5-9fe3-4cadb6d322bc\n"
     ]
    }
   ],
   "source": [
    "#Borrar los ultimos 60 dias de informacion de BigQUery\n",
    "sql_delete = f\"\"\"DELETE FROM {project_id}.{dataset_id}.{table_id} \n",
    "        WHERE\n",
    "        fechaproduccion >= DATE_SUB(CURRENT_DATE(), INTERVAL 60 DAY);\"\"\"\n",
    "\n",
    "# Execute the query\n",
    "job = client.query(sql_delete)\n",
    "\n",
    "# Wait for the query to complete\n",
    "job.result()\n",
    "\n",
    "print(f\"Deleted {job.num_dml_affected_rows} rows.\")"
   ]
  },
  {
   "cell_type": "code",
   "execution_count": 28,
   "metadata": {},
   "outputs": [
    {
     "name": "stdout",
     "output_type": "stream",
     "text": [
      "2023-08-16\n"
     ]
    }
   ],
   "source": [
    "# Obtener el ultimo dia con informacion en BigQuery\n",
    "# SQL query to retrieve MAX(date) to update data from that date\n",
    "sql_query = f\"\"\"\n",
    "    SELECT MAX(fechaproduccion) as LastDate FROM `digital-bonfire-344816.Produccion.ResumenProduccion` \n",
    "LIMIT 100\"\"\"\n",
    "client = bigquery.Client()\n",
    "\n",
    "# Execute the query\n",
    "query_job = client.query(sql_query)\n",
    "results = query_job.result()\n",
    "\n",
    "# Extract the date value from the result\n",
    "for row in results:\n",
    "    date_value = row.LastDate\n",
    "\n",
    "print(date_value.strftime('%Y-%m-%d'))"
   ]
  },
  {
   "cell_type": "code",
   "execution_count": 29,
   "metadata": {},
   "outputs": [
    {
     "name": "stderr",
     "output_type": "stream",
     "text": [
      "C:\\Users\\wicho\\AppData\\Local\\Temp\\ipykernel_4496\\4006146411.py:53: UserWarning: pandas only supports SQLAlchemy connectable (engine/connection) or database string URI or sqlite3 DBAPI2 connection. Other DBAPI2 objects are not tested. Please consider using SQLAlchemy.\n",
      "  result = pd.read_sql(sql_libras, connection)\n"
     ]
    }
   ],
   "source": [
    "loaded_data_produccion = None\n",
    "#loaded_data_produccion = getMysqlData('2019-12-31')\n",
    "loaded_data_produccion = getMysqlData(date_value.strftime('%Y-%m-%d'))\n",
    "\n",
    "#change fechaprodduccion to datetime column type\n",
    "loaded_data_produccion['fechaproduccion'] = pd.to_datetime(loaded_data_produccion['fechaproduccion'])"
   ]
  },
  {
   "cell_type": "code",
   "execution_count": 30,
   "metadata": {},
   "outputs": [
    {
     "data": {
      "text/html": [
       "<div>\n",
       "<style scoped>\n",
       "    .dataframe tbody tr th:only-of-type {\n",
       "        vertical-align: middle;\n",
       "    }\n",
       "\n",
       "    .dataframe tbody tr th {\n",
       "        vertical-align: top;\n",
       "    }\n",
       "\n",
       "    .dataframe thead th {\n",
       "        text-align: right;\n",
       "    }\n",
       "</style>\n",
       "<table border=\"1\" class=\"dataframe\">\n",
       "  <thead>\n",
       "    <tr style=\"text-align: right;\">\n",
       "      <th></th>\n",
       "      <th>fechaproduccion</th>\n",
       "      <th>year</th>\n",
       "      <th>month</th>\n",
       "      <th>week</th>\n",
       "      <th>articulo</th>\n",
       "      <th>turno</th>\n",
       "      <th>libras</th>\n",
       "      <th>unidades_solicitadas</th>\n",
       "      <th>unidades_entregadas</th>\n",
       "    </tr>\n",
       "  </thead>\n",
       "  <tbody>\n",
       "    <tr>\n",
       "      <th>0</th>\n",
       "      <td>2023-08-17</td>\n",
       "      <td>2023</td>\n",
       "      <td>8</td>\n",
       "      <td>33</td>\n",
       "      <td>amapola fondant C17</td>\n",
       "      <td>FAB2DECORA</td>\n",
       "      <td>0.000000</td>\n",
       "      <td>2.0</td>\n",
       "      <td>2.0</td>\n",
       "    </tr>\n",
       "    <tr>\n",
       "      <th>1</th>\n",
       "      <td>2023-08-17</td>\n",
       "      <td>2023</td>\n",
       "      <td>8</td>\n",
       "      <td>33</td>\n",
       "      <td>amapola naranja fondant C23A</td>\n",
       "      <td>FAB2DECORA</td>\n",
       "      <td>0.000000</td>\n",
       "      <td>1.0</td>\n",
       "      <td>1.0</td>\n",
       "    </tr>\n",
       "    <tr>\n",
       "      <th>2</th>\n",
       "      <td>2023-08-17</td>\n",
       "      <td>2023</td>\n",
       "      <td>8</td>\n",
       "      <td>33</td>\n",
       "      <td>baguette 4.5</td>\n",
       "      <td>FAB3MOJADO</td>\n",
       "      <td>127.944539</td>\n",
       "      <td>940.0</td>\n",
       "      <td>940.0</td>\n",
       "    </tr>\n",
       "    <tr>\n",
       "      <th>3</th>\n",
       "      <td>2023-08-17</td>\n",
       "      <td>2023</td>\n",
       "      <td>8</td>\n",
       "      <td>33</td>\n",
       "      <td>baguette 6.0</td>\n",
       "      <td>FAB3MOJADO</td>\n",
       "      <td>9.999200</td>\n",
       "      <td>50.0</td>\n",
       "      <td>50.0</td>\n",
       "    </tr>\n",
       "    <tr>\n",
       "      <th>4</th>\n",
       "      <td>2023-08-17</td>\n",
       "      <td>2023</td>\n",
       "      <td>8</td>\n",
       "      <td>33</td>\n",
       "      <td>baguette corteza</td>\n",
       "      <td>ALM1MOJADO</td>\n",
       "      <td>0.000000</td>\n",
       "      <td>2.0</td>\n",
       "      <td>2.0</td>\n",
       "    </tr>\n",
       "  </tbody>\n",
       "</table>\n",
       "</div>"
      ],
      "text/plain": [
       "  fechaproduccion  year  month  week                      articulo  \\\n",
       "0      2023-08-17  2023      8    33          amapola fondant C17    \n",
       "1      2023-08-17  2023      8    33  amapola naranja fondant C23A   \n",
       "2      2023-08-17  2023      8    33                  baguette 4.5   \n",
       "3      2023-08-17  2023      8    33                  baguette 6.0   \n",
       "4      2023-08-17  2023      8    33              baguette corteza   \n",
       "\n",
       "        turno      libras  unidades_solicitadas  unidades_entregadas  \n",
       "0  FAB2DECORA    0.000000                   2.0                  2.0  \n",
       "1  FAB2DECORA    0.000000                   1.0                  1.0  \n",
       "2  FAB3MOJADO  127.944539                 940.0                940.0  \n",
       "3  FAB3MOJADO    9.999200                  50.0                 50.0  \n",
       "4  ALM1MOJADO    0.000000                   2.0                  2.0  "
      ]
     },
     "execution_count": 30,
     "metadata": {},
     "output_type": "execute_result"
    }
   ],
   "source": [
    "loaded_data_produccion.head()"
   ]
  },
  {
   "cell_type": "code",
   "execution_count": 31,
   "metadata": {},
   "outputs": [
    {
     "data": {
      "text/html": [
       "<div>\n",
       "<style scoped>\n",
       "    .dataframe tbody tr th:only-of-type {\n",
       "        vertical-align: middle;\n",
       "    }\n",
       "\n",
       "    .dataframe tbody tr th {\n",
       "        vertical-align: top;\n",
       "    }\n",
       "\n",
       "    .dataframe thead th {\n",
       "        text-align: right;\n",
       "    }\n",
       "</style>\n",
       "<table border=\"1\" class=\"dataframe\">\n",
       "  <thead>\n",
       "    <tr style=\"text-align: right;\">\n",
       "      <th></th>\n",
       "      <th>fechaproduccion</th>\n",
       "      <th>year</th>\n",
       "      <th>month</th>\n",
       "      <th>week</th>\n",
       "      <th>articulo</th>\n",
       "      <th>turno</th>\n",
       "      <th>libras</th>\n",
       "      <th>unidades_solicitadas</th>\n",
       "      <th>unidades_entregadas</th>\n",
       "    </tr>\n",
       "  </thead>\n",
       "  <tbody>\n",
       "    <tr>\n",
       "      <th>88830</th>\n",
       "      <td>2023-10-16</td>\n",
       "      <td>2023</td>\n",
       "      <td>10</td>\n",
       "      <td>42</td>\n",
       "      <td>Xeca doble sin aniz</td>\n",
       "      <td>FAB3MOJADO</td>\n",
       "      <td>34.672728</td>\n",
       "      <td>0.0</td>\n",
       "      <td>0.0</td>\n",
       "    </tr>\n",
       "    <tr>\n",
       "      <th>88831</th>\n",
       "      <td>2023-10-16</td>\n",
       "      <td>2023</td>\n",
       "      <td>10</td>\n",
       "      <td>42</td>\n",
       "      <td>Xeca jalea</td>\n",
       "      <td>FAB3MOJADO</td>\n",
       "      <td>9.952214</td>\n",
       "      <td>0.0</td>\n",
       "      <td>0.0</td>\n",
       "    </tr>\n",
       "    <tr>\n",
       "      <th>88832</th>\n",
       "      <td>2023-10-16</td>\n",
       "      <td>2023</td>\n",
       "      <td>10</td>\n",
       "      <td>42</td>\n",
       "      <td>xeca jalea bolsa</td>\n",
       "      <td>FAB3MOJADO</td>\n",
       "      <td>0.000000</td>\n",
       "      <td>0.0</td>\n",
       "      <td>0.0</td>\n",
       "    </tr>\n",
       "    <tr>\n",
       "      <th>88833</th>\n",
       "      <td>2023-10-16</td>\n",
       "      <td>2023</td>\n",
       "      <td>10</td>\n",
       "      <td>42</td>\n",
       "      <td>Xeca jamon y queso</td>\n",
       "      <td>FAB3MOJADO</td>\n",
       "      <td>9.432259</td>\n",
       "      <td>0.0</td>\n",
       "      <td>0.0</td>\n",
       "    </tr>\n",
       "    <tr>\n",
       "      <th>88834</th>\n",
       "      <td>2023-10-16</td>\n",
       "      <td>2023</td>\n",
       "      <td>10</td>\n",
       "      <td>42</td>\n",
       "      <td>Xeca sin aniz</td>\n",
       "      <td>FAB3MOJADO</td>\n",
       "      <td>13.567612</td>\n",
       "      <td>0.0</td>\n",
       "      <td>0.0</td>\n",
       "    </tr>\n",
       "  </tbody>\n",
       "</table>\n",
       "</div>"
      ],
      "text/plain": [
       "      fechaproduccion  year  month  week             articulo       turno  \\\n",
       "88830      2023-10-16  2023     10    42  Xeca doble sin aniz  FAB3MOJADO   \n",
       "88831      2023-10-16  2023     10    42           Xeca jalea  FAB3MOJADO   \n",
       "88832      2023-10-16  2023     10    42     xeca jalea bolsa  FAB3MOJADO   \n",
       "88833      2023-10-16  2023     10    42   Xeca jamon y queso  FAB3MOJADO   \n",
       "88834      2023-10-16  2023     10    42        Xeca sin aniz  FAB3MOJADO   \n",
       "\n",
       "          libras  unidades_solicitadas  unidades_entregadas  \n",
       "88830  34.672728                   0.0                  0.0  \n",
       "88831   9.952214                   0.0                  0.0  \n",
       "88832   0.000000                   0.0                  0.0  \n",
       "88833   9.432259                   0.0                  0.0  \n",
       "88834  13.567612                   0.0                  0.0  "
      ]
     },
     "execution_count": 31,
     "metadata": {},
     "output_type": "execute_result"
    }
   ],
   "source": [
    "loaded_data_produccion.tail()"
   ]
  },
  {
   "cell_type": "code",
   "execution_count": 32,
   "metadata": {},
   "outputs": [
    {
     "name": "stderr",
     "output_type": "stream",
     "text": [
      "100%|██████████| 1/1 [00:00<?, ?it/s]"
     ]
    },
    {
     "name": "stdout",
     "output_type": "stream",
     "text": [
      "Loaded data to table ResumenProduccion\n"
     ]
    },
    {
     "name": "stderr",
     "output_type": "stream",
     "text": [
      "\n"
     ]
    }
   ],
   "source": [
    "#Cargar desde un dia despues de la ultima fecha cargada\n",
    "# Write the DataFrame to a BigQuery table\n",
    "to_gbq(loaded_data_produccion, destination_table=f'{project_id}.{dataset_id}.{table_id}', project_id=project_id, if_exists='append')\n",
    "print(\"Loaded data to table {}\".format(table_id))"
   ]
  }
 ],
 "metadata": {
  "kernelspec": {
   "display_name": "Python 3",
   "language": "python",
   "name": "python3"
  },
  "language_info": {
   "codemirror_mode": {
    "name": "ipython",
    "version": 3
   },
   "file_extension": ".py",
   "mimetype": "text/x-python",
   "name": "python",
   "nbconvert_exporter": "python",
   "pygments_lexer": "ipython3",
   "version": "3.11.4"
  },
  "orig_nbformat": 4
 },
 "nbformat": 4,
 "nbformat_minor": 2
}

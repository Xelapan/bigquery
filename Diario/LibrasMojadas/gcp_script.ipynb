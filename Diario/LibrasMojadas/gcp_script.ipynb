{
 "cells": [
  {
   "cell_type": "code",
   "execution_count": 24,
   "metadata": {},
   "outputs": [
    {
     "name": "stdout",
     "output_type": "stream",
     "text": [
      "h:\\My Drive\\pruebas\\Dash\\Google GCP\n"
     ]
    }
   ],
   "source": [
    "import os\n",
    "from datetime import datetime, timedelta\n",
    "from google.cloud import storage\n",
    "import pymysql\n",
    "import pymssql\n",
    "import pandas as pd\n",
    "from pandas_gbq import to_gbq\n",
    "from google.cloud import bigquery\n",
    "\n",
    "current_directory = os.getcwd()\n",
    "print(current_directory)\n",
    "\n",
    "os.environ[\"GOOGLE_APPLICATION_CREDENTIALS\"] = current_directory + \"\\\\digital-bonfire-344816-51ed21bcc910.json\"\n",
    "\n"
   ]
  },
  {
   "cell_type": "code",
   "execution_count": 25,
   "metadata": {},
   "outputs": [],
   "source": [
    "def getMysqlData(fecha):\n",
    "    host = '172.26.200.11'\n",
    "    user = 'root'\n",
    "    password = 'admininformatica'\n",
    "    database = 'dw'\n",
    "\n",
    "    connection = pymysql.connect(\n",
    "        host=host,\n",
    "        user=user,\n",
    "        password=password,\n",
    "        db=database,\n",
    "        charset=\"utf8mb4\",\n",
    "        )\n",
    "\n",
    "    # Define the SQL query to select data from a table\n",
    "    sql_libras = f\"\"\"Select \n",
    "        fechaproduccion,  year(fechaproduccion) year, month(fechaproduccion) month, \n",
    "        case WHEN (WEEK(fechaproduccion,3) >= 52 AND DAYOFYEAR(fechaproduccion) <= 3 ) THEN 1 ELSE WEEK(fechaproduccion,3) END as week,\n",
    "        articulo, turno,\n",
    "        SUM(libras) libras, SUM(cantidad) unidades_solicitadas, SUM(entregado) unidades_entregadas\n",
    "          from (\n",
    "    SELECT\n",
    "    pro_orden.fechaproduccion,\n",
    "    pro_orden.articulo,\n",
    "    pro_orden.codigo as turno,\n",
    "    0 as libras,\n",
    "    SUM(pro_orden.cantidad) cantidad,\n",
    "    SUM(pro_orden.entregado) entregado\n",
    "    FROM\n",
    "    dw.pro_orden\n",
    "    where\n",
    "    (fechaproduccion) > '{fecha}' \n",
    "    and Estado = 'Cerrada'\n",
    "    group by\n",
    "    pro_orden.fechaproduccion, pro_orden.articulo,pro_orden.codigo\n",
    "    UNION ALL\n",
    "    SELECT\n",
    "        fechaproduccion,\n",
    "        producto as articulo,\n",
    "        turno,\n",
    "        libras,\n",
    "        0 as cantidad,\n",
    "        0 as entregado\n",
    "    FROM\n",
    "        dw.pro_librasmojadas\n",
    "    WHERE\n",
    "            (`pro_librasmojadas`.`fechaproduccion`) > '{fecha}' \n",
    "    ) pro\n",
    "    group by fechaproduccion, articulo,turno\"\"\"\n",
    "\n",
    "    try:\n",
    "        # Use Pandas to read data from MySQL into a DataFrame\n",
    "        result = pd.read_sql(sql_libras, connection)\n",
    "\n",
    "    except Exception as e:\n",
    "        print(\"Error:\", str(e))\n",
    "\n",
    "    finally:\n",
    "        # Close the database connection when done\n",
    "        connection.close()\n",
    "        return result"
   ]
  },
  {
   "cell_type": "code",
   "execution_count": 21,
   "metadata": {},
   "outputs": [
    {
     "name": "stderr",
     "output_type": "stream",
     "text": [
      "C:\\Users\\wicho\\AppData\\Local\\Temp\\ipykernel_4496\\2734859263.py:53: UserWarning: pandas only supports SQLAlchemy connectable (engine/connection) or database string URI or sqlite3 DBAPI2 connection. Other DBAPI2 objects are not tested. Please consider using SQLAlchemy.\n",
      "  result = pd.read_sql(sql_libras, connection)\n"
     ]
    }
   ],
   "source": [
    "# Test \n",
    "#Probar si funciona la funcion\n",
    "#loaded_data_produccion = getMysqlData(date_value)\n",
    "#loaded_data_produccion"
   ]
  },
  {
   "cell_type": "code",
   "execution_count": 131,
   "metadata": {},
   "outputs": [],
   "source": [
    "# Test \n",
    "# Por si se necesita guardar localmente\n",
    "#save to csv file\n",
    "#loaded_data_produccion.to_csv(current_directory + \"\\\\file.csv\", index=False)"
   ]
  },
  {
   "cell_type": "code",
   "execution_count": 26,
   "metadata": {},
   "outputs": [],
   "source": [
    "# Specify your BigQuery project_id, dataset_id, and table_id\n",
    "project_id = 'digital-bonfire-344816'\n",
    "dataset_id = 'Produccion'\n",
    "table_id = 'ResumenProduccion'\n",
    "\n",
    "# Initialize a BigQuery client\n",
    "client = bigquery.Client()"
   ]
  },
  {
   "cell_type": "code",
   "execution_count": 27,
   "metadata": {},
   "outputs": [
    {
     "name": "stdout",
     "output_type": "stream",
     "text": [
      "Deleted 0 rows.\n"
     ]
    }
   ],
   "source": [
    "#Borrar los ultimos 60 dias de informacion de BigQUery\n",
    "sql_delete = f\"\"\"DELETE FROM {project_id}.{dataset_id}.{table_id} \n",
    "        WHERE\n",
    "        fechaproduccion >= DATE_SUB(CURRENT_DATE(), INTERVAL 60 DAY);\"\"\"\n",
    "\n",
    "# Execute the query\n",
    "job = client.query(sql_delete)\n",
    "\n",
    "# Wait for the query to complete\n",
    "job.result()\n",
    "\n",
    "print(f\"Deleted {job.num_dml_affected_rows} rows.\")"
   ]
  },
  {
   "cell_type": "code",
   "execution_count": 28,
   "metadata": {},
   "outputs": [
    {
     "name": "stdout",
     "output_type": "stream",
     "text": [
      "2023-08-16\n"
     ]
    }
   ],
   "source": [
    "# Obtener el ultimo dia con informacion en BigQuery\n",
    "# SQL query to retrieve MAX(date) to update data from that date\n",
    "sql_query = f\"\"\"\n",
    "    SELECT MAX(fechaproduccion) as LastDate FROM `digital-bonfire-344816.Produccion.ResumenProduccion` \n",
    "LIMIT 100\"\"\"\n",
    "client = bigquery.Client()\n",
    "\n",
    "# Execute the query\n",
    "query_job = client.query(sql_query)\n",
    "results = query_job.result()\n",
    "\n",
    "# Extract the date value from the result\n",
    "for row in results:\n",
    "    date_value = row.LastDate\n",
    "\n",
    "print(date_value.strftime('%Y-%m-%d'))"
   ]
  },
  {
   "cell_type": "code",
   "execution_count": 29,
   "metadata": {},
   "outputs": [
    {
     "name": "stderr",
     "output_type": "stream",
     "text": [
      "C:\\Users\\wicho\\AppData\\Local\\Temp\\ipykernel_4496\\4006146411.py:53: UserWarning: pandas only supports SQLAlchemy connectable (engine/connection) or database string URI or sqlite3 DBAPI2 connection. Other DBAPI2 objects are not tested. Please consider using SQLAlchemy.\n",
      "  result = pd.read_sql(sql_libras, connection)\n"
     ]
    }
   ],
   "source": [
    "loaded_data_produccion = None\n",
    "#loaded_data_produccion = getMysqlData('2019-12-31')\n",
    "loaded_data_produccion = getMysqlData(date_value.strftime('%Y-%m-%d'))\n",
    "\n",
    "#change fechaprodduccion to datetime column type\n",
    "loaded_data_produccion['fechaproduccion'] = pd.to_datetime(loaded_data_produccion['fechaproduccion'])"
   ]
  },
  {
   "cell_type": "code",
   "execution_count": 30,
   "metadata": {},
   "outputs": [
    {
     "data": {
      "text/html": [
       "<div>\n",
       "<style scoped>\n",
       "    .dataframe tbody tr th:only-of-type {\n",
       "        vertical-align: middle;\n",
       "    }\n",
       "\n",
       "    .dataframe tbody tr th {\n",
       "        vertical-align: top;\n",
       "    }\n",
       "\n",
       "    .dataframe thead th {\n",
       "        text-align: right;\n",
       "    }\n",
       "</style>\n",
       "<table border=\"1\" class=\"dataframe\">\n",
       "  <thead>\n",
       "    <tr style=\"text-align: right;\">\n",
       "      <th></th>\n",
       "      <th>fechaproduccion</th>\n",
       "      <th>year</th>\n",
       "      <th>month</th>\n",
       "      <th>week</th>\n",
       "      <th>articulo</th>\n",
       "      <th>turno</th>\n",
       "      <th>libras</th>\n",
       "      <th>unidades_solicitadas</th>\n",
       "      <th>unidades_entregadas</th>\n",
       "    </tr>\n",
       "  </thead>\n",
       "  <tbody>\n",
       "    <tr>\n",
       "      <th>0</th>\n",
       "      <td>2023-08-17</td>\n",
       "      <td>2023</td>\n",
       "      <td>8</td>\n",
       "      <td>33</td>\n",
       "      <td>amapola fondant C17</td>\n",
       "      <td>FAB2DECORA</td>\n",
       "      <td>0.000000</td>\n",
       "      <td>2.0</td>\n",
       "      <td>2.0</td>\n",
       "    </tr>\n",
       "    <tr>\n",
       "      <th>1</th>\n",
       "      <td>2023-08-17</td>\n",
       "      <td>2023</td>\n",
       "      <td>8</td>\n",
       "      <td>33</td>\n",
       "      <td>amapola naranja fondant C23A</td>\n",
       "      <td>FAB2DECORA</td>\n",
       "      <td>0.000000</td>\n",
       "      <td>1.0</td>\n",
       "      <td>1.0</td>\n",
       "    </tr>\n",
       "    <tr>\n",
       "      <th>2</th>\n",
       "      <td>2023-08-17</td>\n",
       "      <td>2023</td>\n",
       "      <td>8</td>\n",
       "      <td>33</td>\n",
       "      <td>baguette 4.5</td>\n",
       "      <td>FAB3MOJADO</td>\n",
       "      <td>127.944539</td>\n",
       "      <td>940.0</td>\n",
       "      <td>940.0</td>\n",
       "    </tr>\n",
       "    <tr>\n",
       "      <th>3</th>\n",
       "      <td>2023-08-17</td>\n",
       "      <td>2023</td>\n",
       "      <td>8</td>\n",
       "      <td>33</td>\n",
       "      <td>baguette 6.0</td>\n",
       "      <td>FAB3MOJADO</td>\n",
       "      <td>9.999200</td>\n",
       "      <td>50.0</td>\n",
       "      <td>50.0</td>\n",
       "    </tr>\n",
       "    <tr>\n",
       "      <th>4</th>\n",
       "      <td>2023-08-17</td>\n",
       "      <td>2023</td>\n",
       "      <td>8</td>\n",
       "      <td>33</td>\n",
       "      <td>baguette corteza</td>\n",
       "      <td>ALM1MOJADO</td>\n",
       "      <td>0.000000</td>\n",
       "      <td>2.0</td>\n",
       "      <td>2.0</td>\n",
       "    </tr>\n",
       "  </tbody>\n",
       "</table>\n",
       "</div>"
      ],
      "text/plain": [
       "  fechaproduccion  year  month  week                      articulo  \\\n",
       "0      2023-08-17  2023      8    33          amapola fondant C17    \n",
       "1      2023-08-17  2023      8    33  amapola naranja fondant C23A   \n",
       "2      2023-08-17  2023      8    33                  baguette 4.5   \n",
       "3      2023-08-17  2023      8    33                  baguette 6.0   \n",
       "4      2023-08-17  2023      8    33              baguette corteza   \n",
       "\n",
       "        turno      libras  unidades_solicitadas  unidades_entregadas  \n",
       "0  FAB2DECORA    0.000000                   2.0                  2.0  \n",
       "1  FAB2DECORA    0.000000                   1.0                  1.0  \n",
       "2  FAB3MOJADO  127.944539                 940.0                940.0  \n",
       "3  FAB3MOJADO    9.999200                  50.0                 50.0  \n",
       "4  ALM1MOJADO    0.000000                   2.0                  2.0  "
      ]
     },
     "execution_count": 30,
     "metadata": {},
     "output_type": "execute_result"
    }
   ],
   "source": [
    "loaded_data_produccion.head()"
   ]
  },
  {
   "cell_type": "code",
   "execution_count": 31,
   "metadata": {},
   "outputs": [
    {
     "data": {
      "text/html": [
       "<div>\n",
       "<style scoped>\n",
       "    .dataframe tbody tr th:only-of-type {\n",
       "        vertical-align: middle;\n",
       "    }\n",
       "\n",
       "    .dataframe tbody tr th {\n",
       "        vertical-align: top;\n",
       "    }\n",
       "\n",
       "    .dataframe thead th {\n",
       "        text-align: right;\n",
       "    }\n",
       "</style>\n",
       "<table border=\"1\" class=\"dataframe\">\n",
       "  <thead>\n",
       "    <tr style=\"text-align: right;\">\n",
       "      <th></th>\n",
       "      <th>fechaproduccion</th>\n",
       "      <th>year</th>\n",
       "      <th>month</th>\n",
       "      <th>week</th>\n",
       "      <th>articulo</th>\n",
       "      <th>turno</th>\n",
       "      <th>libras</th>\n",
       "      <th>unidades_solicitadas</th>\n",
       "      <th>unidades_entregadas</th>\n",
       "    </tr>\n",
       "  </thead>\n",
       "  <tbody>\n",
       "    <tr>\n",
       "      <th>88830</th>\n",
       "      <td>2023-10-16</td>\n",
       "      <td>2023</td>\n",
       "      <td>10</td>\n",
       "      <td>42</td>\n",
       "      <td>Xeca doble sin aniz</td>\n",
       "      <td>FAB3MOJADO</td>\n",
       "      <td>34.672728</td>\n",
       "      <td>0.0</td>\n",
       "      <td>0.0</td>\n",
       "    </tr>\n",
       "    <tr>\n",
       "      <th>88831</th>\n",
       "      <td>2023-10-16</td>\n",
       "      <td>2023</td>\n",
       "      <td>10</td>\n",
       "      <td>42</td>\n",
       "      <td>Xeca jalea</td>\n",
       "      <td>FAB3MOJADO</td>\n",
       "      <td>9.952214</td>\n",
       "      <td>0.0</td>\n",
       "      <td>0.0</td>\n",
       "    </tr>\n",
       "    <tr>\n",
       "      <th>88832</th>\n",
       "      <td>2023-10-16</td>\n",
       "      <td>2023</td>\n",
       "      <td>10</td>\n",
       "      <td>42</td>\n",
       "      <td>xeca jalea bolsa</td>\n",
       "      <td>FAB3MOJADO</td>\n",
       "      <td>0.000000</td>\n",
       "      <td>0.0</td>\n",
       "      <td>0.0</td>\n",
       "    </tr>\n",
       "    <tr>\n",
       "      <th>88833</th>\n",
       "      <td>2023-10-16</td>\n",
       "      <td>2023</td>\n",
       "      <td>10</td>\n",
       "      <td>42</td>\n",
       "      <td>Xeca jamon y queso</td>\n",
       "      <td>FAB3MOJADO</td>\n",
       "      <td>9.432259</td>\n",
       "      <td>0.0</td>\n",
       "      <td>0.0</td>\n",
       "    </tr>\n",
       "    <tr>\n",
       "      <th>88834</th>\n",
       "      <td>2023-10-16</td>\n",
       "      <td>2023</td>\n",
       "      <td>10</td>\n",
       "      <td>42</td>\n",
       "      <td>Xeca sin aniz</td>\n",
       "      <td>FAB3MOJADO</td>\n",
       "      <td>13.567612</td>\n",
       "      <td>0.0</td>\n",
       "      <td>0.0</td>\n",
       "    </tr>\n",
       "  </tbody>\n",
       "</table>\n",
       "</div>"
      ],
      "text/plain": [
       "      fechaproduccion  year  month  week             articulo       turno  \\\n",
       "88830      2023-10-16  2023     10    42  Xeca doble sin aniz  FAB3MOJADO   \n",
       "88831      2023-10-16  2023     10    42           Xeca jalea  FAB3MOJADO   \n",
       "88832      2023-10-16  2023     10    42     xeca jalea bolsa  FAB3MOJADO   \n",
       "88833      2023-10-16  2023     10    42   Xeca jamon y queso  FAB3MOJADO   \n",
       "88834      2023-10-16  2023     10    42        Xeca sin aniz  FAB3MOJADO   \n",
       "\n",
       "          libras  unidades_solicitadas  unidades_entregadas  \n",
       "88830  34.672728                   0.0                  0.0  \n",
       "88831   9.952214                   0.0                  0.0  \n",
       "88832   0.000000                   0.0                  0.0  \n",
       "88833   9.432259                   0.0                  0.0  \n",
       "88834  13.567612                   0.0                  0.0  "
      ]
     },
     "execution_count": 31,
     "metadata": {},
     "output_type": "execute_result"
    }
   ],
   "source": [
    "loaded_data_produccion.tail()"
   ]
  },
  {
   "cell_type": "code",
   "execution_count": 32,
   "metadata": {},
   "outputs": [
    {
     "name": "stderr",
     "output_type": "stream",
     "text": [
      "100%|██████████| 1/1 [00:00<?, ?it/s]"
     ]
    },
    {
     "name": "stdout",
     "output_type": "stream",
     "text": [
      "Loaded data to table ResumenProduccion\n"
     ]
    },
    {
     "name": "stderr",
     "output_type": "stream",
     "text": [
      "\n"
     ]
    }
   ],
   "source": [
    "#Cargar desde un dia despues de la ultima fecha cargada\n",
    "# Write the DataFrame to a BigQuery table\n",
    "to_gbq(loaded_data_produccion, destination_table=f'{project_id}.{dataset_id}.{table_id}', project_id=project_id, if_exists='append')\n",
    "print(\"Loaded data to table {}\".format(table_id))"
   ]
  }
 ],
 "metadata": {
  "kernelspec": {
   "display_name": "Python 3",
   "language": "python",
   "name": "python3"
  },
  "language_info": {
   "codemirror_mode": {
    "name": "ipython",
    "version": 3
   },
   "file_extension": ".py",
   "mimetype": "text/x-python",
   "name": "python",
   "nbconvert_exporter": "python",
   "pygments_lexer": "ipython3",
   "version": "3.11.4"
  },
  "orig_nbformat": 4
 },
 "nbformat": 4,
 "nbformat_minor": 2
}

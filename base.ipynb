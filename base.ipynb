{
 "cells": [
  {
   "cell_type": "code",
   "execution_count": 7,
   "metadata": {},
   "outputs": [],
   "source": [
    "import os\n",
    "import datetime\n",
    "import subprocess\n",
    "\n",
    "def ejecutar_script_carpeta(nombre_carpeta):\n",
    "    path_carpeta = os.path.join(os.getcwd(), nombre_carpeta)\n",
    "    # print(f\"leyendo carpeta: \" + path_carpeta)\n",
    "\n",
    "    # Verificar si la carpeta existe\n",
    "    if not os.path.exists(path_carpeta):\n",
    "        print(f\"La carpeta '{path_carpeta}' no existe en el directorio actual.\")\n",
    "        return\n",
    "\n",
    "    # Ejecutar los scripts Python en la carpeta\n",
    "    for archivo in os.listdir(path_carpeta):\n",
    "        if archivo.endswith('.py'):\n",
    "            ruta_completa = os.path.join(path_carpeta, archivo)\n",
    "            print(f\"Ejecutando {archivo}...\")\n",
    "            #Ejecutar el script uno por uno de forma secuencial\n",
    "            subprocess.run(['python', ruta_completa])\n",
    "\n",
    "\n",
    "def ejecutar_script_carpeta_desatendido(nombre_carpeta):\n",
    "    path_carpeta = os.path.join(os.getcwd(), nombre_carpeta)\n",
    "    # print(f\"leyendo carpeta: \" + path_carpeta)\n",
    "\n",
    "    # Verificar si la carpeta existe\n",
    "    if not os.path.exists(path_carpeta):\n",
    "        print(f\"La carpeta '{path_carpeta}' no existe en el directorio actual.\")\n",
    "        return\n",
    "\n",
    "    # Ejecutar los scripts Python en la carpeta\n",
    "    for archivo in os.listdir(path_carpeta):\n",
    "        if archivo.endswith('.py'):\n",
    "            ruta_completa = os.path.join(path_carpeta, archivo)\n",
    "            # print(f\"Ejecutando {archivo}...\")\n",
    "            #Ejecutar el script uno por uno de forma paralela, no espera a que termine el script\n",
    "            subprocess.Popen(['python', ruta_completa])"
   ]
  },
  {
   "cell_type": "code",
   "execution_count": 8,
   "metadata": {},
   "outputs": [],
   "source": [
    "\n",
    "hoy = datetime.datetime.today()\n",
    "hora_actual = hoy.hour\n",
    "\n",
    "# Verificar si hoy es domingo\n",
    "if hoy.weekday() == 6:  # 0 = Lunes, 1 = Martes, ..., 6 = Domingo\n",
    "    ejecutar_script_carpeta('Domingo')\n",
    "# Verificar si la hora actual está entre las 10 PM y la medianoche\n",
    "if 22 <= hora_actual < 24:  # 22 corresponde a las 10 PM, 24 a la medianoche\n",
    "    ejecutar_script_carpeta('Diario')\n",
    "# Verificar si la hora actual está entre las 10 PM y la medianoche\n",
    "if 8 <= hora_actual < 17:  # 22 corresponde a las 10 PM, 24 a la medianoche\n",
    "    ejecutar_script_carpeta_desatendido('Recurrente')\n",
    "\n"
   ]
  }
 ],
 "metadata": {
  "kernelspec": {
   "display_name": "Python 3",
   "language": "python",
   "name": "python3"
  },
  "language_info": {
   "codemirror_mode": {
    "name": "ipython",
    "version": 3
   },
   "file_extension": ".py",
   "mimetype": "text/x-python",
   "name": "python",
   "nbconvert_exporter": "python",
   "pygments_lexer": "ipython3",
   "version": "3.11.4"
  },
  "orig_nbformat": 4
 },
 "nbformat": 4,
 "nbformat_minor": 2
}
